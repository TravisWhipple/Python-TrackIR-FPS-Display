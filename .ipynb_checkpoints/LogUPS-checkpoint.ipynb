{
 "cells": [
  {
   "cell_type": "code",
   "execution_count": 15,
   "id": "bee7fb62-498d-47cf-a789-483079682a50",
   "metadata": {},
   "outputs": [
    {
     "ename": "ImportError",
     "evalue": "cannot import name 'TrackIRDLL' from 'trackir' (C:\\Users\\travi\\Dev\\TrackIr_UPS\\trackir.py)",
     "output_type": "error",
     "traceback": [
      "\u001b[1;31m---------------------------------------------------------------------------\u001b[0m",
      "\u001b[1;31mImportError\u001b[0m                               Traceback (most recent call last)",
      "Cell \u001b[1;32mIn[15], line 4\u001b[0m\n\u001b[0;32m      2\u001b[0m \u001b[38;5;28;01mimport\u001b[39;00m \u001b[38;5;21;01mtime\u001b[39;00m\n\u001b[0;32m      3\u001b[0m \u001b[38;5;28;01mimport\u001b[39;00m \u001b[38;5;21;01mtrackir\u001b[39;00m\n\u001b[1;32m----> 4\u001b[0m \u001b[38;5;28;01mfrom\u001b[39;00m \u001b[38;5;21;01mtrackir\u001b[39;00m \u001b[38;5;28;01mimport\u001b[39;00m TrackIRDLL\n\u001b[0;32m      6\u001b[0m trackrIr \u001b[38;5;241m=\u001b[39m TrackIRDLL(tkinter\u001b[38;5;241m.\u001b[39mTk()\u001b[38;5;241m.\u001b[39mwm_frame())\n\u001b[0;32m      7\u001b[0m \u001b[38;5;28;01mwhile\u001b[39;00m \u001b[38;5;28;01mTrue\u001b[39;00m:\n",
      "\u001b[1;31mImportError\u001b[0m: cannot import name 'TrackIRDLL' from 'trackir' (C:\\Users\\travi\\Dev\\TrackIr_UPS\\trackir.py)"
     ]
    }
   ],
   "source": [
    "import tkinter\n",
    "import time\n",
    "import trackir\n",
    "from trackir import TrackIRDLL\n",
    "\n",
    "trackrIr = TrackIRDLL(tkinter.Tk().wm_frame())\n",
    "while True:\n",
    "    data = trackrIr.NP_GetData()\n",
    "    print(data)\n",
    "    time.sleep(0.1)"
   ]
  }
 ],
 "metadata": {
  "kernelspec": {
   "display_name": "Python 3 (ipykernel)",
   "language": "python",
   "name": "python3"
  },
  "language_info": {
   "codemirror_mode": {
    "name": "ipython",
    "version": 3
   },
   "file_extension": ".py",
   "mimetype": "text/x-python",
   "name": "python",
   "nbconvert_exporter": "python",
   "pygments_lexer": "ipython3",
   "version": "3.13.0"
  }
 },
 "nbformat": 4,
 "nbformat_minor": 5
}
